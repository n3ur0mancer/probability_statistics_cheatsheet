{
 "cells": [
  {
   "cell_type": "markdown",
   "metadata": {},
   "source": [
    "# Probability & Statistcs Cheatsheet"
   ]
  },
  {
   "cell_type": "code",
   "execution_count": 1,
   "metadata": {},
   "outputs": [],
   "source": [
    "import math"
   ]
  },
  {
   "cell_type": "markdown",
   "metadata": {},
   "source": [
    "## Counting - Combinatorics"
   ]
  },
  {
   "cell_type": "markdown",
   "metadata": {},
   "source": [
    "### N factorial - N!\n",
    "\n",
    "$$N! = 1 \\cdot 2 \\cdot 3 \\cdot \\ldots \\cdot (N - 2) \\cdot (N - 1) \\cdot N$$\n",
    "\n",
    "**When to use:** Finding the number of different ways one can order a given object."
   ]
  },
  {
   "cell_type": "code",
   "execution_count": 3,
   "metadata": {},
   "outputs": [
    {
     "name": "stdout",
     "output_type": "stream",
     "text": [
      "120\n"
     ]
    }
   ],
   "source": [
    "number_of_books = 5\n",
    "possible_book_arrangements = math.factorial(number_of_books)\n",
    "\n",
    "print(possible_book_arrangements)"
   ]
  },
  {
   "cell_type": "markdown",
   "metadata": {},
   "source": [
    "### N<sup>n</sup>\n",
    "\n",
    "**When to use:** finding the number of results for a process that is ordered, with repetition\n",
    "\n",
    "**Use cases:** rolling an *N-sided* die *n* times"
   ]
  },
  {
   "cell_type": "code",
   "execution_count": 6,
   "metadata": {},
   "outputs": [
    {
     "name": "stdout",
     "output_type": "stream",
     "text": [
      "216.0\n"
     ]
    }
   ],
   "source": [
    "sides_of_die = 6\n",
    "number_of_rolls = 3\n",
    "possible_results = math.pow(sides_of_die, number_of_rolls)\n",
    "\n",
    "print(possible_results)"
   ]
  },
  {
   "cell_type": "markdown",
   "metadata": {},
   "source": [
    "### k-permutations\n",
    "\n",
    "$$P(n, k) = \\frac{n!}{(n - k)!}$$\n",
    "\n",
    "**When to use:** when you want to count the number of ways to arrange or select a specific number of items (k items) from a larger set without repetition and where the order of selection matters\n",
    "\n",
    "**Use cases:**  calculating the number of ways a set of athletes can finish in a race, considering their positions"
   ]
  },
  {
   "cell_type": "code",
   "execution_count": 17,
   "metadata": {},
   "outputs": [
    {
     "name": "stdout",
     "output_type": "stream",
     "text": [
      "720.0\n"
     ]
    }
   ],
   "source": [
    "number_of_athlets = 10\n",
    "number_of_positions = 3\n",
    "\n",
    "def k_permutation_count(n, k):\n",
    "    if n < k:\n",
    "        return 0\n",
    "    return math.factorial(n) / math.factorial(n - k)\n",
    "\n",
    "possible_top3_of_race = k_permutation_count(number_of_athlets, number_of_positions)\n",
    "print(possible_top3_of_race)"
   ]
  },
  {
   "cell_type": "markdown",
   "metadata": {},
   "source": [
    "### Binominal coefficient\n",
    "\n",
    "$$C(n, k) = \\binom{n}{k} = \\frac{n!}{k!(n-k)!}$$\n",
    "\n",
    "**When to use:** binomial coefficient, often denoted as \"n choose k\" or \"C(n, k),\" represents the number of ways to choose k items from a set of n items without regard to the order and without repetition\n",
    "\n",
    "**Use cases:** counting the number of ways to form a committee of 3 members from a group of 10 people"
   ]
  },
  {
   "cell_type": "code",
   "execution_count": 19,
   "metadata": {},
   "outputs": [
    {
     "name": "stdout",
     "output_type": "stream",
     "text": [
      "120\n"
     ]
    }
   ],
   "source": [
    "total_people = 10\n",
    "open_member_positions = 3\n",
    "\n",
    "possible_arrangements = math.comb(total_people, open_member_positions)\n",
    "\n",
    "print(possible_arrangements)"
   ]
  },
  {
   "cell_type": "markdown",
   "metadata": {},
   "source": [
    "### Unordered with repetition\n",
    "\n",
    "$$\\text C(n + k - 1, k) = \\frac{(n + k - 1)!}{k! \\cdot (n - 1)!}$$\n",
    "\n",
    "**When to use:** scenarios where you need to count cases where items can be chosen more than once, and the order of selection doesn't matter\n",
    "\n",
    "**Use cases:** you have a certain quantity of resources (e.g., candies, money, or identical items) and you want to distribute them among a group of people"
   ]
  },
  {
   "cell_type": "code",
   "execution_count": 24,
   "metadata": {},
   "outputs": [
    {
     "name": "stdout",
     "output_type": "stream",
     "text": [
      "286\n"
     ]
    }
   ],
   "source": [
    "number_of_1_dollar_bills = 10\n",
    "people_to_gift = 4\n",
    "\n",
    "def unordered_with_repetition(k, n):\n",
    "    return math.comb((n + (k - 1)), n - 1)\n",
    "\n",
    "total_ways_to_gift = unordered_with_repetition(number_of_1_dollar_bills, people_to_gift)\n",
    "\n",
    "print(total_ways_to_gift)"
   ]
  },
  {
   "cell_type": "markdown",
   "metadata": {},
   "source": [
    "## Probability"
   ]
  },
  {
   "cell_type": "markdown",
   "metadata": {},
   "source": [
    "### Equally likely events\n",
    "\n",
    "$$p = \\frac{\\text{number of desired outcomes}}{\\text{total number of possible outcomes}}$$\n",
    "\n",
    "**When to use:** when outcomes are equally likely\n",
    "\n",
    "**Use cases:** lottery tickets, drawing balls from a sack (with replacement), rolling a die"
   ]
  },
  {
   "cell_type": "code",
   "execution_count": 25,
   "metadata": {},
   "outputs": [
    {
     "name": "stdout",
     "output_type": "stream",
     "text": [
      "1e-06\n"
     ]
    }
   ],
   "source": [
    "total_number_of_ticket = 1000000\n",
    "number_of_winning_tickets = 1\n",
    "\n",
    "probability_to_win = number_of_winning_tickets / total_number_of_ticket\n",
    "\n",
    "print(probability_to_win)"
   ]
  },
  {
   "cell_type": "markdown",
   "metadata": {},
   "source": [
    "### Intersection Probability (P and B) - Dependent Events\n",
    "\n",
    "$$P\\text{(A and B)} = P(A) \\cdot P(B|A)$$\n",
    "\n",
    "**When to use:** when the probability is conditional, when the occurence of one events does affect the probability that the other occurs\n",
    "\n",
    "**Use cases:** drawing balls from a non-replacing sack, weather forecasting, game theory"
   ]
  },
  {
   "cell_type": "code",
   "execution_count": 40,
   "metadata": {},
   "outputs": [
    {
     "name": "stdout",
     "output_type": "stream",
     "text": [
      "Probability of drawing a red ball: 0.4\n",
      "Probability of drawing a blue ball: 0.6\n",
      "We draw a red ball, no replacement.\n",
      "Probability of drawing a red ball decreases: 0.3333333333333333\n",
      "Probability of drawing a blue ball increases: 0.6666666666666666\n"
     ]
    }
   ],
   "source": [
    "total_number_of_balls = 10\n",
    "number_of_red_balls = 4\n",
    "number_of_blue_balls = 6\n",
    "\n",
    "probability_of_red_ball = number_of_red_balls / total_number_of_balls\n",
    "probability_of_blue_ball = number_of_blue_balls / total_number_of_balls\n",
    "print(f\"Probability of drawing a red ball: {probability_of_red_ball}\")\n",
    "print(f\"Probability of drawing a blue ball: {probability_of_blue_ball}\")\n",
    "\n",
    "# we have drawn a red ball, therefore the total number of balls & the number of red balls change\n",
    "new_total_of_balls = 10 - 1\n",
    "new_number_of_red_balls = 4 - 1\n",
    "print(\"We draw a red ball, no replacement.\")\n",
    "\n",
    "new_probability_of_red_ball = new_number_of_red_balls / new_total_of_balls\n",
    "new_probability_of_blue_ball = number_of_blue_balls / new_total_of_balls\n",
    "print(f\"Probability of drawing a red ball decreases: {new_probability_of_red_ball}\")\n",
    "print(f\"Probability of drawing a blue ball increases: {new_probability_of_blue_ball}\")"
   ]
  },
  {
   "cell_type": "markdown",
   "metadata": {},
   "source": [
    "### Intersection Probability (P and B) - Independent Events\n",
    "\n",
    "$$P\\text{(A and B)} = P(A) \\cdot P(B)$$\n",
    "\n",
    "**When to use:** when the events do not affect each other, the occurence of one events does not affect the probability that the other occurs\n",
    "\n",
    "**Use cases:** ball drawing and dice rolls, manufacturing quality control"
   ]
  },
  {
   "cell_type": "code",
   "execution_count": 31,
   "metadata": {},
   "outputs": [
    {
     "name": "stdout",
     "output_type": "stream",
     "text": [
      "Probability of drawing a green ball: 0.25\n",
      "Probability of rolling a three: 0.16666666666666666\n",
      "Probability of drawing a green ball and rolling a three: 0.041666666666666664\n"
     ]
    }
   ],
   "source": [
    "number_of_balls = 8\n",
    "number_of_green_balls = 2\n",
    "probability_of_drawing_green_ball = number_of_green_balls / number_of_balls\n",
    "print(f\"Probability of drawing a green ball: {probability_of_drawing_green_ball}\")\n",
    "\n",
    "number_of_die_sides = 6\n",
    "ways_of_getting_a_3 = 1\n",
    "probability_of_getting_a_3 = ways_of_getting_a_3 / number_of_die_sides\n",
    "print(f\"Probability of rolling a three: {probability_of_getting_a_3}\")\n",
    "\n",
    "probability_of_green_ball_and_getting_3 = probability_of_drawing_green_ball * probability_of_getting_a_3\n",
    "print(f\"Probability of drawing a green ball and rolling a three: {probability_of_green_ball_and_getting_3}\")\n"
   ]
  },
  {
   "cell_type": "markdown",
   "metadata": {},
   "source": [
    "### Union Probability (P or B) - Exclusive Events\n",
    "\n",
    "$$P\\text{(A or B)} = P(A) + P(B)$$\n",
    "\n",
    "**When to use:** when one events prevent the other from happening, they can not happen simultaneously\n",
    "\n",
    "**Use cases:** dice rolls, sports game outcomes, election results"
   ]
  },
  {
   "cell_type": "code",
   "execution_count": 43,
   "metadata": {},
   "outputs": [
    {
     "name": "stdout",
     "output_type": "stream",
     "text": [
      "Probability of two: 0.16666666666666666\n",
      "Probability of five: 0.16666666666666666\n",
      "Probability of two or five: 0.3333333333333333\n"
     ]
    }
   ],
   "source": [
    "total_sides_of_die = 6\n",
    "number_of_ways_to_roll_two = 1\n",
    "number_of_ways_to_roll_five = 1\n",
    "\n",
    "probability_of_rolling_two = number_of_ways_to_roll_two / total_sides_of_die\n",
    "print(f\"Probability of two: {probability_of_rolling_two}\")\n",
    "\n",
    "probability_of_rolling_five = number_of_ways_to_roll_five / total_sides_of_die\n",
    "print(f\"Probability of five: {probability_of_rolling_five}\")\n",
    "\n",
    "probability_of_two_or_five = probability_of_rolling_two + probability_of_rolling_five\n",
    "print(f\"Probability of two or five: {probability_of_two_or_five}\")"
   ]
  }
 ],
 "metadata": {
  "kernelspec": {
   "display_name": "Python 3",
   "language": "python",
   "name": "python3"
  },
  "language_info": {
   "codemirror_mode": {
    "name": "ipython",
    "version": 3
   },
   "file_extension": ".py",
   "mimetype": "text/x-python",
   "name": "python",
   "nbconvert_exporter": "python",
   "pygments_lexer": "ipython3",
   "version": "3.10.4"
  },
  "orig_nbformat": 4
 },
 "nbformat": 4,
 "nbformat_minor": 2
}
