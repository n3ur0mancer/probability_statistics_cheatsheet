{
 "cells": [
  {
   "cell_type": "markdown",
   "metadata": {},
   "source": [
    "# **Probability & Statistcs Cheatsheet**"
   ]
  },
  {
   "cell_type": "code",
   "execution_count": 41,
   "metadata": {},
   "outputs": [],
   "source": [
    "import math\n",
    "import scipy.stats as stats\n",
    "import numpy as np\n",
    "import time"
   ]
  },
  {
   "cell_type": "markdown",
   "metadata": {},
   "source": [
    "## **Counting - Combinatorics**"
   ]
  },
  {
   "cell_type": "markdown",
   "metadata": {},
   "source": [
    "### N factorial - N!\n",
    "\n",
    "$$N! = 1 \\cdot 2 \\cdot 3 \\cdot \\ldots \\cdot (N - 2) \\cdot (N - 1) \\cdot N$$\n",
    "\n",
    "**When to use:** Finding the number of different ways one can order a given object."
   ]
  },
  {
   "cell_type": "code",
   "execution_count": 2,
   "metadata": {},
   "outputs": [
    {
     "name": "stdout",
     "output_type": "stream",
     "text": [
      "120\n"
     ]
    }
   ],
   "source": [
    "number_of_books = 5\n",
    "\n",
    "possible_book_arrangements = math.factorial(number_of_books)\n",
    "print(possible_book_arrangements)"
   ]
  },
  {
   "cell_type": "markdown",
   "metadata": {},
   "source": [
    "### N<sup>n</sup>\n",
    "\n",
    "**When to use:** finding the number of results for a process that is ordered, with repetition\n",
    "\n",
    "**Use cases:** rolling an *N-sided* die *n* times"
   ]
  },
  {
   "cell_type": "code",
   "execution_count": 3,
   "metadata": {},
   "outputs": [
    {
     "name": "stdout",
     "output_type": "stream",
     "text": [
      "216.0\n"
     ]
    }
   ],
   "source": [
    "sides_of_die = 6\n",
    "number_of_rolls = 3\n",
    "\n",
    "possible_results = math.pow(sides_of_die, number_of_rolls)\n",
    "print(possible_results)"
   ]
  },
  {
   "cell_type": "markdown",
   "metadata": {},
   "source": [
    "### k-permutations\n",
    "\n",
    "$$P(n, k) = \\frac{n!}{(n - k)!}$$\n",
    "\n",
    "**When to use:** when you want to count the number of ways to arrange or select a specific number of items (k items) from a larger set without repetition and where the order of selection matters\n",
    "\n",
    "**Use cases:**  calculating the number of ways a set of athletes can finish in a race, considering their positions"
   ]
  },
  {
   "cell_type": "code",
   "execution_count": 4,
   "metadata": {},
   "outputs": [
    {
     "name": "stdout",
     "output_type": "stream",
     "text": [
      "720.0\n"
     ]
    }
   ],
   "source": [
    "number_of_athlets = 10\n",
    "number_of_positions = 3\n",
    "\n",
    "\n",
    "def k_permutation_count(n, k):\n",
    "    if n < k:\n",
    "        return 0\n",
    "    return math.factorial(n) / math.factorial(n - k)\n",
    "\n",
    "\n",
    "possible_top3_of_race = k_permutation_count(number_of_athlets, number_of_positions)\n",
    "print(possible_top3_of_race)"
   ]
  },
  {
   "cell_type": "markdown",
   "metadata": {},
   "source": [
    "### Binominal coefficient\n",
    "\n",
    "$$C(n, k) = \\binom{n}{k} = \\frac{n!}{k!(n-k)!}$$\n",
    "\n",
    "**When to use:** binomial coefficient, often denoted as \"n choose k\" or \"C(n, k),\" represents the number of ways to choose k items from a set of n items without regard to the order and without repetition\n",
    "\n",
    "**Use cases:** counting the number of ways to form a committee of 3 members from a group of 10 people"
   ]
  },
  {
   "cell_type": "code",
   "execution_count": 5,
   "metadata": {},
   "outputs": [
    {
     "name": "stdout",
     "output_type": "stream",
     "text": [
      "120\n"
     ]
    }
   ],
   "source": [
    "total_people = 10\n",
    "open_member_positions = 3\n",
    "\n",
    "possible_arrangements = math.comb(total_people, open_member_positions)\n",
    "print(possible_arrangements)"
   ]
  },
  {
   "cell_type": "markdown",
   "metadata": {},
   "source": [
    "### Unordered with repetition\n",
    "\n",
    "$$\\text C(n + k - 1, k) = \\frac{(n + k - 1)!}{k! \\cdot (n - 1)!}$$\n",
    "\n",
    "**When to use:** scenarios where you need to count cases where items can be chosen more than once, and the order of selection doesn't matter\n",
    "\n",
    "**Use cases:** you have a certain quantity of resources (e.g., candies, money, or identical items) and you want to distribute them among a group of people"
   ]
  },
  {
   "cell_type": "code",
   "execution_count": 6,
   "metadata": {},
   "outputs": [
    {
     "name": "stdout",
     "output_type": "stream",
     "text": [
      "286\n"
     ]
    }
   ],
   "source": [
    "number_of_1_dollar_bills = 10\n",
    "people_to_gift = 4\n",
    "\n",
    "\n",
    "def unordered_with_repetition(k, n):\n",
    "    return math.comb((n + (k - 1)), n - 1)\n",
    "\n",
    "\n",
    "total_ways_to_gift = unordered_with_repetition(number_of_1_dollar_bills, people_to_gift)\n",
    "print(total_ways_to_gift)"
   ]
  },
  {
   "cell_type": "markdown",
   "metadata": {},
   "source": [
    "---"
   ]
  },
  {
   "cell_type": "markdown",
   "metadata": {},
   "source": [
    "## **Probability**"
   ]
  },
  {
   "cell_type": "markdown",
   "metadata": {},
   "source": [
    "### Equally likely events\n",
    "\n",
    "$$p = \\frac{\\text{number of desired outcomes}}{\\text{total number of possible outcomes}}$$\n",
    "\n",
    "**When to use:** when outcomes are equally likely\n",
    "\n",
    "**Use cases:** lottery tickets, drawing balls from a sack (with replacement), rolling a die"
   ]
  },
  {
   "cell_type": "code",
   "execution_count": 7,
   "metadata": {},
   "outputs": [
    {
     "name": "stdout",
     "output_type": "stream",
     "text": [
      "1e-06\n"
     ]
    }
   ],
   "source": [
    "total_number_of_ticket = 1000000\n",
    "number_of_winning_tickets = 1\n",
    "\n",
    "\n",
    "def probability_equally_likely(desired_outcomes, total_outcomes):\n",
    "    return desired_outcomes / total_outcomes\n",
    "\n",
    "\n",
    "probability_to_win = probability_equally_likely(number_of_winning_tickets, total_number_of_ticket)\n",
    "print(probability_to_win)"
   ]
  },
  {
   "cell_type": "markdown",
   "metadata": {},
   "source": [
    "---"
   ]
  },
  {
   "cell_type": "markdown",
   "metadata": {},
   "source": [
    "### Testing for Independence\n",
    "\n",
    "If any of the following relations is true, then the event is said to be independent:\n",
    "\n",
    "$$P(A) =  \\frac{\\text{P(A and B)}}{P(B)}$$\n",
    "$$P(B) =  \\frac{\\text{P(A and B)}}{P(A)}$$\n",
    "\n",
    "$$P\\text{(A and B)} = P(A) \\cdot P(B)$$"
   ]
  },
  {
   "cell_type": "code",
   "execution_count": 8,
   "metadata": {},
   "outputs": [
    {
     "data": {
      "text/plain": [
       "True"
      ]
     },
     "execution_count": 8,
     "metadata": {},
     "output_type": "execute_result"
    }
   ],
   "source": [
    "def is_probability_event_independent(probability_event_A, probability_event_B):\n",
    "    probability_A_and_B = probability_event_A * probability_event_B\n",
    "    if probability_event_A == probability_A_and_B / probability_event_B and probability_A_and_B / probability_event_A == probability_event_B:\n",
    "        return True\n",
    "    else:\n",
    "        False\n",
    "\n",
    "\n",
    "probability_event_A = 0.12\n",
    "probability_event_B = 0.35\n",
    "\n",
    "is_probability_event_independent(probability_event_A, probability_event_B)"
   ]
  },
  {
   "cell_type": "markdown",
   "metadata": {},
   "source": [
    "---"
   ]
  },
  {
   "cell_type": "markdown",
   "metadata": {},
   "source": [
    "<img src=\"../images/intersection.png\" alt=\"My Resized Image\" height=\"200\">"
   ]
  },
  {
   "cell_type": "markdown",
   "metadata": {},
   "source": [
    "### Intersection Probability (P and B) - Dependent Events\n",
    "\n",
    "$$P\\text{(A and B)} = P(A) \\cdot P(B|A)$$\n",
    "\n",
    "**When to use:** when the probability is conditional, when the occurence of one events does affect the probability that the other occurs. Dependent events can exclusive or nonexclusive\n",
    "\n",
    "**Use cases:** drawing balls from a non-replacing sack, weather forecasting, game theory"
   ]
  },
  {
   "cell_type": "code",
   "execution_count": 9,
   "metadata": {},
   "outputs": [
    {
     "name": "stdout",
     "output_type": "stream",
     "text": [
      "Probability of drawing a red ball: 0.4\n",
      "Probability of drawing a blue ball: 0.6\n",
      "We draw a red ball, no replacement.\n",
      "Probability of drawing a red ball decreases: 0.3333333333333333\n",
      "Probability of drawing a blue ball increases: 0.6666666666666666\n"
     ]
    }
   ],
   "source": [
    "total_number_of_balls = 10\n",
    "number_of_red_balls = 4\n",
    "number_of_blue_balls = 6\n",
    "\n",
    "probability_of_red_ball = probability_equally_likely(number_of_red_balls, total_number_of_balls)\n",
    "probability_of_blue_ball = probability_equally_likely(number_of_blue_balls, total_number_of_balls)\n",
    "print(f\"Probability of drawing a red ball: {probability_of_red_ball}\")\n",
    "print(f\"Probability of drawing a blue ball: {probability_of_blue_ball}\")\n",
    "\n",
    "# we have drawn a red ball, therefore the total number of balls & the number of red balls change\n",
    "new_total_of_balls = 10 - 1\n",
    "new_number_of_red_balls = 4 - 1\n",
    "print(\"We draw a red ball, no replacement.\")\n",
    "\n",
    "new_probability_of_red_ball = probability_equally_likely(new_number_of_red_balls, new_total_of_balls)\n",
    "new_probability_of_blue_ball = probability_equally_likely(number_of_blue_balls, new_total_of_balls)\n",
    "print(f\"Probability of drawing a red ball decreases: {new_probability_of_red_ball}\")\n",
    "print(f\"Probability of drawing a blue ball increases: {new_probability_of_blue_ball}\")"
   ]
  },
  {
   "cell_type": "markdown",
   "metadata": {},
   "source": [
    "### Intersection Probability (P and B) - Independent Events\n",
    "\n",
    "$$P\\text{(A and B)} = P(A) \\cdot P(B)$$\n",
    "\n",
    "**When to use:** when the events do not affect each other, the occurence of one events does not affect the probability that the other occurs. Independent events must be nonexclusive\n",
    "\n",
    "**Use cases:** ball drawing and dice rolls, manufacturing quality control"
   ]
  },
  {
   "cell_type": "code",
   "execution_count": 10,
   "metadata": {},
   "outputs": [
    {
     "name": "stdout",
     "output_type": "stream",
     "text": [
      "Probability of drawing a green ball: 0.25\n",
      "Probability of rolling a three: 0.16666666666666666\n",
      "Probability of drawing a green ball and rolling a three: 0.041666666666666664\n"
     ]
    }
   ],
   "source": [
    "number_of_balls = 8\n",
    "number_of_green_balls = 2\n",
    "\n",
    "probability_of_drawing_green_ball = probability_equally_likely(number_of_green_balls, number_of_balls)\n",
    "print(f\"Probability of drawing a green ball: {probability_of_drawing_green_ball}\")\n",
    "\n",
    "number_of_die_sides = 6\n",
    "ways_of_getting_a_3 = 1\n",
    "\n",
    "probability_of_getting_a_3 = probability_equally_likely(ways_of_getting_a_3, number_of_die_sides)\n",
    "print(f\"Probability of rolling a three: {probability_of_getting_a_3}\")\n",
    "\n",
    "\n",
    "def probability_a_and_b_independent (prob_a, prob_b):\n",
    "    return prob_a * prob_b\n",
    "\n",
    "\n",
    "probability_of_green_ball_and_getting_3 = probability_a_and_b_independent(probability_of_drawing_green_ball, probability_of_getting_a_3)\n",
    "print(f\"Probability of drawing a green ball and rolling a three: {probability_of_green_ball_and_getting_3}\")\n"
   ]
  },
  {
   "cell_type": "markdown",
   "metadata": {},
   "source": [
    "#### Further Resources \n",
    "\n",
    "- [Probability - Independent and Dependent Events (Youtube Video)](https://www.youtube.com/watch?v=lWAdPyvm400)"
   ]
  },
  {
   "cell_type": "markdown",
   "metadata": {},
   "source": [
    "---"
   ]
  },
  {
   "cell_type": "markdown",
   "metadata": {},
   "source": [
    "### Conditional Probability\n",
    "\n",
    "$$ P(A|B) = \\frac{\\text{P(A and B)}}{P(B)}$$\n",
    "\n",
    "**When to use:** \n",
    "\n",
    "**Use cases:** "
   ]
  },
  {
   "cell_type": "code",
   "execution_count": 11,
   "metadata": {},
   "outputs": [
    {
     "data": {
      "text/plain": [
       "0.4285714285714286"
      ]
     },
     "execution_count": 11,
     "metadata": {},
     "output_type": "execute_result"
    }
   ],
   "source": [
    "def calculate_conditional_probability(probability_a_and_b, probability_b):\n",
    "    return probability_a_and_b / probability_b\n",
    "\n",
    "\n",
    "prob_a_and_b = 0.3\n",
    "prob_b = 0.7\n",
    "\n",
    "calculate_conditional_probability(prob_a_and_b, prob_b)"
   ]
  },
  {
   "cell_type": "markdown",
   "metadata": {},
   "source": [
    "#### Further Resources \n",
    "\n",
    "- [Intro to Conditional Probability (Youtube Video)](https://www.youtube.com/watch?v=ibINrxJLvlM&list=PLyV7Y5k9aXDzvd9HknbQwH1BYhkavzWyf&index=5)"
   ]
  },
  {
   "cell_type": "markdown",
   "metadata": {},
   "source": [
    "---"
   ]
  },
  {
   "cell_type": "markdown",
   "metadata": {},
   "source": [
    "### Union Probability (P or B) - Mutually exclusive Events\n",
    "\n",
    "<img src=\"../images/union-exclusive.png\" alt=\"My Resized Image\" height=\"200\">\n",
    "\n",
    "$$P\\text{(A or B)} = P(A) + P(B)$$\n",
    "\n",
    "**When to use:** when one events prevent the other from happening, they can not happen simultaneously. Exclusive events must be dependent\n",
    "\n",
    "**Use cases:** dice rolls, sports game outcomes, election results"
   ]
  },
  {
   "cell_type": "code",
   "execution_count": 12,
   "metadata": {},
   "outputs": [
    {
     "name": "stdout",
     "output_type": "stream",
     "text": [
      "Probability of two: 0.16666666666666666\n",
      "Probability of five: 0.16666666666666666\n",
      "Probability of two or five: 0.3333333333333333\n"
     ]
    }
   ],
   "source": [
    "total_sides_of_die = 6\n",
    "number_of_ways_to_roll_two = 1\n",
    "number_of_ways_to_roll_five = 1\n",
    "\n",
    "probability_of_rolling_two = probability_equally_likely(number_of_ways_to_roll_two, total_sides_of_die)\n",
    "print(f\"Probability of two: {probability_of_rolling_two}\")\n",
    "\n",
    "probability_of_rolling_five = probability_equally_likely(number_of_ways_to_roll_five, total_sides_of_die)\n",
    "print(f\"Probability of five: {probability_of_rolling_five}\")\n",
    "\n",
    "\n",
    "def probability_a_or_b_exclusive(prob_a, prob_b):\n",
    "    return prob_a + prob_b\n",
    "\n",
    "\n",
    "probability_of_two_or_five = probability_a_or_b_exclusive(probability_of_rolling_two, probability_of_rolling_five)\n",
    "print(f\"Probability of two or five: {probability_of_two_or_five}\")"
   ]
  },
  {
   "cell_type": "markdown",
   "metadata": {},
   "source": [
    "### Union Probability (P or B) - Non-mutually exclusive Events\n",
    "\n",
    "<img src=\"../images/union-nonexclusive.png\" alt=\"My Resized Image\" height=\"200\">\n",
    "\n",
    "$$P\\text{(A or B)} = P(A) + P(B) - P\\text{(A and B)}$$\n",
    "\n",
    "**When to use:** when one events does not prevent the other from happening, they can happen simultaneously. Nonexclusive events can be either independent or dependent\n",
    "\n",
    "**Use cases:** drawing cards, multiple choice questions, event planning and event attendance"
   ]
  },
  {
   "cell_type": "code",
   "execution_count": 13,
   "metadata": {},
   "outputs": [
    {
     "name": "stdout",
     "output_type": "stream",
     "text": [
      "Probability of drawing a king: 0.07692307692307693\n",
      "Probability of drawing a hearts card: 0.25\n",
      "Probability of drawing a king of hearts: 0.019230769230769232\n",
      "Probability of drawing a king or a hearts card: 0.3076923076923077\n"
     ]
    }
   ],
   "source": [
    "total_number_of_cards = 52\n",
    "number_of_kings_in_deck = 4\n",
    "number_of_hearts_in_deck = 13\n",
    "\n",
    "probability_of_king = probability_equally_likely(number_of_kings_in_deck, total_number_of_cards)\n",
    "print(f\"Probability of drawing a king: {probability_of_king}\")\n",
    "\n",
    "probability_of_hearts = probability_equally_likely(number_of_hearts_in_deck, total_number_of_cards)\n",
    "print(f\"Probability of drawing a hearts card: {probability_of_hearts}\")\n",
    "\n",
    "probability_of_king_and_hearts = probability_a_and_b_independent(probability_of_king, probability_of_hearts)\n",
    "print(f\"Probability of drawing a king of hearts: {probability_of_king_and_hearts}\")\n",
    "\n",
    "\n",
    "def probability_a_or_b_nonexclusive(prob_a, prob_b):\n",
    "    joint_probability = probability_a_and_b_independent(prob_a, prob_b)\n",
    "    return prob_a + prob_b - joint_probability\n",
    "\n",
    "\n",
    "probability_of_king_or_hearts = probability_a_or_b_nonexclusive(probability_of_king, probability_of_hearts)\n",
    "print(f\"Probability of drawing a king or a hearts card: {probability_of_king_or_hearts}\")"
   ]
  },
  {
   "cell_type": "markdown",
   "metadata": {},
   "source": [
    "#### Further Resources \n",
    "\n",
    "- [Probability of Mutually Exclusive Events With Venn Diagrams (Youtube Video)](https://www.youtube.com/watch?v=X6usGgwXFyU&t=0s)"
   ]
  },
  {
   "cell_type": "markdown",
   "metadata": {},
   "source": [
    "---"
   ]
  },
  {
   "cell_type": "markdown",
   "metadata": {},
   "source": [
    "### Bayes' Theorem\n",
    "\n",
    "#### Simple Form \n",
    "\n",
    "$$P(A|B) = \\frac{P(B|A) \\cdot P(A)}{P(B)}$$\n",
    "\n",
    "$$or $$\n",
    "\n",
    "$$P(A|B) = P(A) \\cdot \\frac{P(B|A)}{P(B)}$$\n",
    "\n",
    "**Use Cases:** ou can use the simple form when you have all the necessary probabilities readily available and don't need to break down the calculation further. It's suitable for well-defined problems with complete data."
   ]
  },
  {
   "cell_type": "markdown",
   "metadata": {},
   "source": [
    "<img src=\"../images/bayes_simple.png\" alt=\"My Resized Image\" height=\"200\">"
   ]
  },
  {
   "cell_type": "code",
   "execution_count": 14,
   "metadata": {},
   "outputs": [
    {
     "name": "stdout",
     "output_type": "stream",
     "text": [
      "Probability of having the disease given a positive test: 0.16239316239316237\n"
     ]
    }
   ],
   "source": [
    "def bayes_theorem_simple(prior_probability_event_a, prior_probability_evidence_b, probability_b_given_a):\n",
    "    return (probability_b_given_a * prior_probability_event_a) / prior_probability_evidence_b\n",
    "\n",
    "\n",
    "prior_probability_disease = 0.02\n",
    "positive_test_given_disease = 0.95\n",
    "positive_test_given_no_disease = 0.10\n",
    "no_disease = 1 - prior_probability_disease\n",
    "positive_test = (positive_test_given_disease * prior_probability_disease) + (positive_test_given_no_disease * no_disease)\n",
    "\n",
    "disease_given_positive_test = bayes_theorem_simple(prior_probability_disease, positive_test, positive_test_given_disease)\n",
    "print(\"Probability of having the disease given a positive test:\", disease_given_positive_test)\n"
   ]
  },
  {
   "cell_type": "markdown",
   "metadata": {},
   "source": [
    "#### Explicit Form\n",
    "\n",
    "$$P(A|B) = \\frac{P(B|A) \\cdot P(A)}{P(B|A) \\cdot P(A) + P(B|\\neg A) \\cdot P(\\neg A)}$$\n",
    "\n",
    "**Use Cases:** You can use the explicit form when you want to see the individual components that contribute to the calculation. It's helpful for transparency, understanding the factors at play, and adjusting probabilities based on additional information. \n",
    "\n",
    "When you have incomplete data, missing probabilities, or additional complexities, the explicit or general forms allow you to handle such situations by explicitly considering the components or by adapting the theorem to your specific needs."
   ]
  },
  {
   "cell_type": "markdown",
   "metadata": {},
   "source": [
    "<img src=\"../images/bayes_explicit.png\" alt=\"My Resized Image\" height=\"200\">"
   ]
  },
  {
   "cell_type": "code",
   "execution_count": 15,
   "metadata": {},
   "outputs": [
    {
     "name": "stdout",
     "output_type": "stream",
     "text": [
      "Probability of having the disease given a positive test: 0.16239316239316237\n"
     ]
    }
   ],
   "source": [
    "def bayes_theorem_explicit(prob_a, prob_b_given_a, prob_b_given_not_a):\n",
    "    numerator = prob_b_given_a * prob_a\n",
    "    denominator = (prob_b_given_a * prob_a) + (prob_b_given_not_a * (1 - prob_a))\n",
    "    \n",
    "    posterior_prob = numerator / denominator\n",
    "\n",
    "    return posterior_prob\n",
    "\n",
    "\n",
    "prior_probability_disease = 0.02\n",
    "positive_test_given_disease = 0.95\n",
    "positive_test_given_no_disease = 0.10\n",
    "no_disease = 1 - prior_probability_disease\n",
    "\n",
    "disease_given_positive_test = bayes_theorem_explicit(prior_probability_disease, positive_test_given_disease, positive_test_given_no_disease)\n",
    "print(\"Probability of having the disease given a positive test:\", disease_given_positive_test)"
   ]
  },
  {
   "cell_type": "markdown",
   "metadata": {},
   "source": [
    "#### General Form\n",
    "\n",
    "$$P(A_i|B) = \\frac{P(B|A_i) \\cdot P(A_i)}{\\sum_{i=1}^n P(B|A_i) \\cdot P(A_i)}$$\n",
    "\n",
    "**Use Cases:** The general form is useful in situations where you have multiple hypotheses (e.g., A₁, A₂, ...) and a common evidence (B). It allows you to calculate the posterior probability for each hypothesis based on the evidence.\n",
    "\n",
    "The general form is essential when dealing with multiple hypotheses, as it allows you to calculate the posterior probabilities for each hypothesis given the same evidence."
   ]
  },
  {
   "cell_type": "markdown",
   "metadata": {},
   "source": [
    "<img src=\"../images/bayes_general.png\" alt=\"My Resized Image\" height=\"200\">"
   ]
  },
  {
   "cell_type": "code",
   "execution_count": 16,
   "metadata": {},
   "outputs": [
    {
     "name": "stdout",
     "output_type": "stream",
     "text": [
      "Posterior Probability: 0.7941176470588237\n"
     ]
    }
   ],
   "source": [
    "def bayes_theorem_general_single(evidence_likelihood, prior_probability):\n",
    "    # Calculate the posterior probability\n",
    "    denominator = evidence_likelihood * prior_probability + (1 - evidence_likelihood) * (1 - prior_probability)\n",
    "    posterior_probability = (evidence_likelihood * prior_probability) / denominator\n",
    "\n",
    "    return posterior_probability\n",
    "\n",
    "\n",
    "evidence_likelihood = 0.9  # Likelihood for the single hypothesis\n",
    "prior_probability = 0.3    # Prior probability for the single hypothesis\n",
    "\n",
    "posterior_probability = bayes_theorem_general_single(evidence_likelihood, prior_probability)\n",
    "print(\"Posterior Probability:\", posterior_probability)\n",
    "\n"
   ]
  },
  {
   "cell_type": "code",
   "execution_count": 17,
   "metadata": {},
   "outputs": [
    {
     "name": "stdout",
     "output_type": "stream",
     "text": [
      "Posterior Probabilities: [0.48214285714285715, 0.14285714285714288, 0.37499999999999994]\n"
     ]
    }
   ],
   "source": [
    "def bayes_theorem_general_list(evidence_likelihoods, prior_probabilities):\n",
    "    posterior_probabilities = []\n",
    "\n",
    "    # Calculate the denominator, which is the sum of likelihood * prior for all hypotheses\n",
    "    denominator = sum(likelihood * prior for likelihood, prior in zip(evidence_likelihoods, prior_probabilities))\n",
    "\n",
    "    # Calculate the posterior probability for each hypothesis\n",
    "    for likelihood, prior in zip(evidence_likelihoods, prior_probabilities):\n",
    "        posterior = (likelihood * prior) / denominator\n",
    "        posterior_probabilities.append(posterior)\n",
    "\n",
    "    return posterior_probabilities\n",
    "\n",
    "# Example usage:\n",
    "evidence_likelihoods = [0.9, 0.2, 0.7]  # Likelihoods for each hypothesis\n",
    "prior_probabilities = [0.3, 0.4, 0.3]  # Prior probabilities for each hypothesis\n",
    "\n",
    "posterior_probabilities = bayes_theorem_general_list(evidence_likelihoods, prior_probabilities)\n",
    "print(\"Posterior Probabilities:\", posterior_probabilities)\n"
   ]
  },
  {
   "cell_type": "markdown",
   "metadata": {},
   "source": [
    "#### Further resources\n",
    "\n",
    "- [Bayes' Theorem - The Simplest Case (Youtube Video)](https://www.youtube.com/watch?v=XQoLVl31ZfQ&list=PLyV7Y5k9aXDzvd9HknbQwH1BYhkavzWyf&index=7&t=27s)\n",
    "- [Bayesian Statistics: An Introduction  (Youtube Video)](https://www.youtube.com/watch?v=Pahyv9i_X2k&list=PLyV7Y5k9aXDzvd9HknbQwH1BYhkavzWyf&index=9)"
   ]
  },
  {
   "cell_type": "markdown",
   "metadata": {},
   "source": [
    "---"
   ]
  },
  {
   "cell_type": "markdown",
   "metadata": {},
   "source": [
    "## **Random Variables**\n",
    "\n",
    "- Definition\n",
    "- difference between an event and random variables"
   ]
  },
  {
   "cell_type": "markdown",
   "metadata": {},
   "source": [
    "### Discrete random variables\n",
    "\n",
    "Real world example"
   ]
  },
  {
   "cell_type": "markdown",
   "metadata": {},
   "source": [
    "### Continuous random variables\n",
    "\n",
    "Real world example"
   ]
  },
  {
   "cell_type": "markdown",
   "metadata": {},
   "source": [
    "### Mixed random variables\n",
    "\n",
    "Real world example"
   ]
  },
  {
   "cell_type": "markdown",
   "metadata": {},
   "source": [
    "---"
   ]
  },
  {
   "cell_type": "markdown",
   "metadata": {},
   "source": [
    "## **Expectation Values**\n",
    "\n",
    "Can be derived from the moment generating function (MGF)"
   ]
  },
  {
   "cell_type": "markdown",
   "metadata": {},
   "source": [
    "### Central moments & moment generating function (MGF)"
   ]
  },
  {
   "cell_type": "markdown",
   "metadata": {},
   "source": [
    "#### 1. Central moment: **Expectation value (Mean)**\n",
    "\n",
    "**Insights it provides:** The expected value provides a measure of the central tendency of a random variable. It represents the \"average\" or \"typical\" value that you might expect to occur.\n",
    "\n",
    "**Use cases:** Fair pricing, evaluate different product development strategies by comparing their potential outcomes, Meteorologists use expected values to forecast daily weather conditions, such as the expected amount of rainfall, etc.\n",
    "\n",
    "##### *1. a) For discrete random values:*\n",
    "$$E(X) = \\mu = \\sum_{x} x \\cdot P(X=x)$$\n",
    "or\n",
    "$$E(X) = \\mu = x1 \\cdot P(x1) + x2 \\cdot P(x2) + x3 \\cdot P(x3) + ... + xm \\cdot P(xm)$$\n",
    "\n",
    "- **E(X)** or **μ**  represents the expectation value (mean) of the discrete random variable X.\n",
    "- **x** represents each possible value of the random variable X.\n",
    "- **P(X=x)** represents the probability that X takes on the value x.\n",
    "\n",
    "*Example:*\n",
    "\n",
    "P(X=1)=0.3\n",
    "\n",
    "P(X=2)=0.5\n",
    "\n",
    "P(X=3)=0.2\n",
    "\n",
    "$$E(X) = (1 \\cdot 0.3) + (2 \\cdot 0.5) + (3 \\cdot 0.2)$$\n",
    "$$E(X) = 0.3 + 1.0 + 0.6$$\n",
    "$$E(X) = 1.9$$"
   ]
  },
  {
   "cell_type": "code",
   "execution_count": 24,
   "metadata": {},
   "outputs": [
    {
     "name": "stdout",
     "output_type": "stream",
     "text": [
      "Expected Value (Discrete - function): 1.9000000000000001\n",
      "Expected Value (Discrete - SciPy): 1.9000000000000001\n"
     ]
    }
   ],
   "source": [
    "# in form of a function\n",
    "def expected_value_discrete(values, probabilities):\n",
    "    expected_value = sum(value * prob for value, prob in zip(values, probabilities))\n",
    "    \n",
    "    return expected_value\n",
    "\n",
    "\n",
    "values = [1, 2, 3]\n",
    "probabilities = [0.3, 0.5, 0.2]\n",
    "\n",
    "expected_value_disc_function = expected_value_discrete(values, probabilities)\n",
    "\n",
    "# with SciPy stats\n",
    "custom_disc_distribution = stats.rv_discrete(values=(values, probabilities))\n",
    "expected_value_disc_scipy = custom_disc_distribution.mean()\n",
    "\n",
    "print(\"Expected Value (Discrete - function):\", expected_value_disc_function)\n",
    "print(\"Expected Value (Discrete - SciPy):\", expected_value_disc_scipy)"
   ]
  },
  {
   "cell_type": "markdown",
   "metadata": {},
   "source": [
    "##### *1. b) For continuous random values:*\n",
    "$$E(X) = \\mu = \\int_{-\\infty}^{\\infty} x \\cdot f(x) \\, dx$$\n",
    "\n",
    "- **E(X)** or **μ**  represents the expectation value (mean) of the continuous random variable X.\n",
    "- **x** represents the variable of integration.\n",
    "- **f(x)** represents the probability density function (pdf) of the continuous random variable X.\n",
    "\n",
    "*Example:*\n",
    "\n",
    "$$E(X) = \\int_{0}^{1} x \\cdot 1 \\, dx$$\n",
    "$$E(X) = \\left[\\frac{x^2}{2}\\right]_{0}^{1}$$\n",
    "$$E(X) = \\frac{1}{2} - 0$$\n",
    "$$E(X) = \\frac{1}{2}$$"
   ]
  },
  {
   "cell_type": "code",
   "execution_count": 25,
   "metadata": {},
   "outputs": [
    {
     "name": "stdout",
     "output_type": "stream",
     "text": [
      "Expected Value (Continuous - function): 0.49950000000000017\n",
      "Expected Value (Continuous - SciPy): 0.5\n"
     ]
    }
   ],
   "source": [
    "# in form of a function\n",
    "def expected_value_continuous(pdf_function, lower_limit, upper_limit, num_samples=1000):\n",
    "    step_size = (upper_limit - lower_limit) / num_samples\n",
    "    expected_value = sum(pdf_function(x) * x * step_size for x in \n",
    "                        (lower_limit + i * step_size for i in range(num_samples)))\n",
    "    \n",
    "    return expected_value\n",
    "\n",
    "\n",
    "def uniform_pdf(x):\n",
    "    if 0 <= x <= 1:\n",
    "        return 1\n",
    "    else:\n",
    "        return 0\n",
    "\n",
    "\n",
    "lower_limit = 0\n",
    "upper_limit = 1\n",
    "\n",
    "expected_value_cont_function = expected_value_continuous(uniform_pdf, lower_limit, upper_limit)\n",
    "\n",
    "# with SciPy stats\n",
    "cont_rv_object = stats.uniform(loc=lower_limit, scale=upper_limit - lower_limit)\n",
    "expected_value_cont_scipy = cont_rv_object.expect()\n",
    "\n",
    "print(\"Expected Value (Continuous - function):\", expected_value_cont_function)\n",
    "print(\"Expected Value (Continuous - SciPy):\", expected_value_cont_scipy)"
   ]
  },
  {
   "cell_type": "markdown",
   "metadata": {},
   "source": [
    "---"
   ]
  },
  {
   "cell_type": "markdown",
   "metadata": {},
   "source": [
    "#### 2. Central moment: **Variance**\n",
    "**Insights it provides:** Variance quantifies the dispersion of data around the mean. It gauges data consistency. Low variance signifies consistency, while high variance indicates greater variability.\n",
    "\n",
    "**Use cases:** It assesses risk in finance, quality control, and insurance, and aids in experimental design, process improvement, data analysis, machine learning, and environmental monitoring.\n",
    "\n",
    "##### *2. a) For discrete random variables:*\n",
    "\n",
    "$$\\text{Var}(X) = \\sum_{x} (x - \\mu)^2 \\cdot P(X=x)$$\n",
    "$$\\text{Var}(X) = (x1 - \\mu)^2 \\cdot P(x1) + (x2 - \\mu)^2 \\cdot P(x2) + ... + (xm - \\mu)^2 \\cdot P(xm)$$\n",
    "\n",
    "or\n",
    "\n",
    "$$\\text{Var}(X) = E[(X - \\mu)]^2$$\n",
    "\n",
    "- **Var(X)** represents the variance of the discrete random variable X.\n",
    "- **x** represents each possible value of X.\n",
    "- **μ** represents the mean (expected value) of X.\n",
    "- **P(X=x)** represents the probability that X takes on the value x\n",
    "\n",
    "*Example:*\n",
    "\n",
    "P(X=1)=0.3\n",
    "\n",
    "P(X=2)=0.5\n",
    "\n",
    "P(X=3)=0.2\n",
    "\n",
    "$$\\text{Var}(X) = (1 - 1.9)^2 \\cdot 0.3 + (2 - 1.9)^2 \\cdot 0.5 + (3 - 1.9)^2 \\cdot 0.2$$\n",
    "$$\\text{Var}(X) = (-0.9)^2 \\cdot 0.3 + (0.1)^2 \\cdot 0.5 + (1.1)^2 \\cdot 0.2$$\n",
    "$$\\text{Var}(X) = 0.81 \\cdot 0.3 + 0.01 \\cdot 0.5 + 1.21 \\cdot 0.2$$\n",
    "$$\\text{Var}(X) = 0.243 + 0.005 + 0.242$$\n",
    "$$\\text{Var}(X) = 0.49$$"
   ]
  },
  {
   "cell_type": "code",
   "execution_count": 63,
   "metadata": {},
   "outputs": [
    {
     "name": "stdout",
     "output_type": "stream",
     "text": [
      "Variance (function): 2.5 in 0.00010657310485839844 seconds\n",
      "Variance (numpy): 2.5 in 0.0002968311309814453 seconds\n"
     ]
    }
   ],
   "source": [
    "# in form of a function\n",
    "def calculate_variance(data):\n",
    "    n = len(data) \n",
    "    mean = sum(data) / n\n",
    "    squared_deviations = [(x - mean) ** 2 for x in data]\n",
    "    variance = sum(squared_deviations) / (n - 1)\n",
    "    \n",
    "    return variance\n",
    "\n",
    "\n",
    "data = [1, 2, 3, 4, 5]\n",
    "\n",
    "start_time = time.time()\n",
    "variance_function = calculate_variance(data)\n",
    "end_time = time.time()\n",
    "variance_function_time = end_time - start_time\n",
    "\n",
    "# using numpy variance\n",
    "start_time = time.time()\n",
    "variance_numpy = np.var(data, ddof=1)\n",
    "end_time = time.time()\n",
    "variance_numpy_time = end_time - start_time\n",
    "\n",
    "print(f\"Variance (function): {variance_function} in {variance_function_time} seconds\")\n",
    "print(f\"Variance (numpy): {variance_numpy} in {variance_numpy_time} seconds\")"
   ]
  },
  {
   "cell_type": "markdown",
   "metadata": {},
   "source": [
    "##### *2. b) For continuous random variables:*\n",
    "\n",
    "$$\\text{Var}(X) = \\int_{-\\infty}^{\\infty} (x - \\mu)^2 \\cdot f(x) \\, dx$$\n",
    "\n",
    "- **Var(X)** represents the variance of the continuous random variable X.\n",
    "- **x** represents the variable of integration.\n",
    "- **μ** represents the mean (expected value) of X.\n",
    "- **f(x)** represents the probability density function (PDF) of the continuous random variable X.\n",
    "\n",
    "*Example:*\n",
    "\n",
    "$$\\text{Var}(X) = \\int_{0}^{1} (x - 0.5)^2 \\cdot 1 \\, dx$$\n",
    "$$\\text{Var}(X) = \\int_{0}^{1} (x - 0.5)^2 \\, dx$$\n",
    "$$\\text{Var}(X) = \\left[\\frac{1}{3}x^3 - \\frac{1}{4}x^4 + \\frac{1}{48}x^2\\right]_{0}^{1}$$\n",
    "$$\\text{Var}(X) = \\left(\\frac{1}{3} - \\frac{1}{4} + \\frac{1}{48}\\right) - (0 - 0 + 0)$$\n",
    "$$\\text{Var}(X) = \\frac{1}{12}$$\n"
   ]
  },
  {
   "cell_type": "code",
   "execution_count": null,
   "metadata": {},
   "outputs": [],
   "source": []
  },
  {
   "cell_type": "markdown",
   "metadata": {},
   "source": [
    "---"
   ]
  },
  {
   "cell_type": "markdown",
   "metadata": {},
   "source": [
    "#### 3. Central moment: **Skewness**\n",
    "**Insights it provides:**\n",
    "\n",
    "**Use cases:**\n",
    "\n",
    "$$S = \\frac{E((X - \\mu)^3)}{\\left[E((X - \\mu)^2)\\right]^{\\frac{3}{2}}}$$\n",
    "\n",
    "- discrete random variable\n",
    "- continuous random variable"
   ]
  },
  {
   "cell_type": "markdown",
   "metadata": {},
   "source": [
    "---"
   ]
  },
  {
   "cell_type": "markdown",
   "metadata": {},
   "source": [
    "#### 4. Central moment: **Kurtosis**\n",
    "**Insights it provides:** provides insights into the shape of the tails of that distribution. It tells you whether the distribution has fatter or thinner tails than a normal distribution. \n",
    "\n",
    "- *Thicker/ positive (leptokurtic) tails:* means that extreme values or outliers are more likely in the data, and the distribution has more data points in the tails. A distribution with positive kurtosis often has a more peaked or sharp central peak. It suggests that the data points are more concentrated around the mean, and there are more extreme values in the tails.\n",
    "- *Thinner/ negative (platykurtic) tails means:* extreme values or outliers are less likely, and the distribution has fewer data points in the tails. A distribution with negative kurtosis often has a flatter central peak. It suggests that the data points are more evenly spread out and that there are fewer extreme values in the tails.\n",
    "\n",
    "**Use cases:** used to assess the risk of extreme events or outliers, assess whether a given probability distribution model fits the data well, check assumptions about the distribution of data and the validity of statistical tests, etc.\n",
    "\n",
    "$$\\text{Population Kurtosis} = E[\\left(\\frac{X - \\mu}{\\sigma}\\right)^4]$$\n",
    "\n",
    "- **K** represents the sample kurtosis.\n",
    "- **n** is the number of data points in the dataset.\n",
    "- **xi** represents each individual data point.\n",
    "- **xˉ** is the sample mean (average) of the dataset.\n",
    "- **s** is the sample standard deviation of the dataset.\n"
   ]
  },
  {
   "cell_type": "markdown",
   "metadata": {},
   "source": [
    "---"
   ]
  },
  {
   "cell_type": "markdown",
   "metadata": {},
   "source": [
    "### Other measures related to the Central Moments"
   ]
  },
  {
   "cell_type": "markdown",
   "metadata": {},
   "source": [
    "#### **Covariance**\n",
    "**Insights it provides:**\n",
    "\n",
    "**Use cases:**\n",
    "\n",
    "- discrete random variable\n",
    "- continuous random variable"
   ]
  },
  {
   "cell_type": "markdown",
   "metadata": {},
   "source": [
    "#### **Sample variance**\n",
    "**Insights it provides:**\n",
    "\n",
    "**Use cases:**\n",
    "\n",
    "- discrete random variable\n",
    "- continuous random variable"
   ]
  },
  {
   "cell_type": "code",
   "execution_count": null,
   "metadata": {},
   "outputs": [],
   "source": []
  },
  {
   "cell_type": "markdown",
   "metadata": {},
   "source": [
    "---"
   ]
  },
  {
   "cell_type": "markdown",
   "metadata": {},
   "source": [
    "#### **Standard deviation**\n",
    "**Insights it provides:**\n",
    "\n",
    "**Use cases:**\n",
    "\n",
    "$$\\sigma = \\sqrt{\\text{Var}(X)}$$\n",
    "\n",
    "- **σ** represents the standard deviation.\n",
    "- **Var(X)** is the variance of the random variable X."
   ]
  },
  {
   "cell_type": "code",
   "execution_count": 67,
   "metadata": {},
   "outputs": [
    {
     "name": "stdout",
     "output_type": "stream",
     "text": [
      "Standard deviation (function): 1.5811388300841898 in 8.487701416015625e-05 seconds\n",
      "Standard deviation (numpy): 1.5811388300841898 in 0.0002009868621826172 seconds\n",
      "Standard deviation (scipy): 1.5811388300841898 in 0.00017690658569335938 seconds\n"
     ]
    }
   ],
   "source": [
    "# using function\n",
    "def calculate_standard_deviation(variance):\n",
    "    return math.sqrt(variance)\n",
    "\n",
    "\n",
    "data = [1, 2, 3, 4, 5]\n",
    "\n",
    "variance = calculate_variance(data)\n",
    "start_time = time.time()\n",
    "standard_deviation_function = calculate_standard_deviation(variance)\n",
    "end_time = time.time()\n",
    "fucntion_execution_time = end_time - start_time\n",
    "\n",
    "# using numpy\n",
    "start_time = time.time()\n",
    "standard_deviation_numpy = np.std(data, ddof=1)\n",
    "end_time = time.time()\n",
    "numpy_execution_time = end_time - start_time\n",
    "\n",
    "# using scipy\n",
    "start_time = time.time()\n",
    "standard_deviation_scipy = stats.tstd(data)\n",
    "end_time = time.time()\n",
    "scipy_execution_time = end_time - start_time\n",
    "\n",
    "print(f\"Standard deviation (function): {standard_deviation_function} in {fucntion_execution_time} seconds\")\n",
    "print(f\"Standard deviation (numpy): {standard_deviation_numpy} in {numpy_execution_time} seconds\")\n",
    "print(f\"Standard deviation (scipy): {standard_deviation_scipy} in {scipy_execution_time} seconds\")"
   ]
  },
  {
   "cell_type": "markdown",
   "metadata": {},
   "source": [
    "---"
   ]
  },
  {
   "cell_type": "markdown",
   "metadata": {},
   "source": [
    "#### **Standard deviation of the mean**\n",
    "**Insights it provides:**\n",
    "\n",
    "**Use cases:**\n",
    "\n",
    "- discrete random variable\n",
    "- continuous random variable"
   ]
  },
  {
   "cell_type": "code",
   "execution_count": null,
   "metadata": {},
   "outputs": [],
   "source": []
  },
  {
   "cell_type": "markdown",
   "metadata": {},
   "source": [
    "---"
   ]
  },
  {
   "cell_type": "markdown",
   "metadata": {},
   "source": [
    "## **Probability Distributions**\n",
    "\n",
    "- what are they used for\n",
    "- why are they helpful"
   ]
  },
  {
   "cell_type": "markdown",
   "metadata": {},
   "source": [
    "### Discrete Distributions"
   ]
  },
  {
   "cell_type": "markdown",
   "metadata": {},
   "source": [
    "#### **Probability Mass Function (PMF)**"
   ]
  },
  {
   "cell_type": "markdown",
   "metadata": {},
   "source": [
    "#### **Cumulative Distribution Function (CDF)**"
   ]
  },
  {
   "cell_type": "markdown",
   "metadata": {},
   "source": [
    "#### **Uniform distribution**"
   ]
  },
  {
   "cell_type": "markdown",
   "metadata": {},
   "source": [
    "#### **Bernoulli distribution**"
   ]
  },
  {
   "cell_type": "markdown",
   "metadata": {},
   "source": [
    "#### **Binomial distribution**"
   ]
  },
  {
   "cell_type": "markdown",
   "metadata": {},
   "source": [
    "#### **The Negative Binomial Distribution**"
   ]
  },
  {
   "cell_type": "markdown",
   "metadata": {},
   "source": [
    "#### **The Geometric distribution**"
   ]
  },
  {
   "cell_type": "markdown",
   "metadata": {},
   "source": [
    "#### **Poisson distribution**"
   ]
  },
  {
   "cell_type": "markdown",
   "metadata": {},
   "source": [
    "### Continuous Distributions"
   ]
  },
  {
   "cell_type": "markdown",
   "metadata": {},
   "source": [
    "#### **Cumulative Distribution Function (CDF)**"
   ]
  },
  {
   "cell_type": "markdown",
   "metadata": {},
   "source": [
    "#### **Probability Density Function (PDF)**"
   ]
  },
  {
   "cell_type": "markdown",
   "metadata": {},
   "source": [
    "#### **Uniform distribution**"
   ]
  },
  {
   "cell_type": "markdown",
   "metadata": {},
   "source": [
    "#### **Gaussian/ Normal distribution**"
   ]
  },
  {
   "cell_type": "markdown",
   "metadata": {},
   "source": [
    "#### **Student's T Distribution**"
   ]
  },
  {
   "cell_type": "markdown",
   "metadata": {},
   "source": [
    "#### **Exponential distribution**"
   ]
  },
  {
   "cell_type": "markdown",
   "metadata": {},
   "source": [
    "#### **The Beta Distribution**"
   ]
  },
  {
   "cell_type": "markdown",
   "metadata": {},
   "source": [
    "#### **The Gamma Distribution**"
   ]
  },
  {
   "cell_type": "markdown",
   "metadata": {},
   "source": [
    "#### **Weibull Distribution**"
   ]
  },
  {
   "cell_type": "markdown",
   "metadata": {},
   "source": [
    "---"
   ]
  },
  {
   "cell_type": "markdown",
   "metadata": {},
   "source": [
    "## **Joint distributions: Two random variables**"
   ]
  },
  {
   "cell_type": "markdown",
   "metadata": {},
   "source": [
    "#### **The Multivariate Hyper-Geometric Distribution**"
   ]
  },
  {
   "cell_type": "markdown",
   "metadata": {},
   "source": [
    "#### **The Multivariate Normal Distribution**"
   ]
  },
  {
   "cell_type": "markdown",
   "metadata": {},
   "source": [
    "#### **The Uniform Distribution**"
   ]
  },
  {
   "cell_type": "markdown",
   "metadata": {},
   "source": [
    "#### **Conditional distributions**"
   ]
  },
  {
   "cell_type": "markdown",
   "metadata": {},
   "source": [
    "#### **Marginal distributions**"
   ]
  },
  {
   "cell_type": "markdown",
   "metadata": {},
   "source": [
    "---"
   ]
  },
  {
   "cell_type": "markdown",
   "metadata": {},
   "source": [
    "## **Inequalities/ Probability Bounds**"
   ]
  },
  {
   "cell_type": "markdown",
   "metadata": {},
   "source": [
    "#### **Markov’s Inequality**"
   ]
  },
  {
   "cell_type": "markdown",
   "metadata": {},
   "source": [
    "#### **Chebyshev’s Inequality**"
   ]
  },
  {
   "cell_type": "markdown",
   "metadata": {},
   "source": [
    "#### **Hoeffding’s Inequality**"
   ]
  },
  {
   "cell_type": "markdown",
   "metadata": {},
   "source": [
    "#### **Hoeffding’s inequality of Bernoulli random variables**"
   ]
  },
  {
   "cell_type": "markdown",
   "metadata": {},
   "source": [
    "#### **Cauchy-Schwarz Inequality**"
   ]
  },
  {
   "cell_type": "markdown",
   "metadata": {},
   "source": [
    "#### **Jensen’s Inequality**"
   ]
  },
  {
   "cell_type": "markdown",
   "metadata": {},
   "source": [
    "---"
   ]
  },
  {
   "cell_type": "markdown",
   "metadata": {},
   "source": [
    "## **The Law of Large Numbers**"
   ]
  },
  {
   "cell_type": "markdown",
   "metadata": {},
   "source": [
    "---"
   ]
  },
  {
   "cell_type": "markdown",
   "metadata": {},
   "source": [
    "## **Central Limit Theorems**\n",
    "\n",
    "- definition\n",
    "- gaussian approximation (?)"
   ]
  }
 ],
 "metadata": {
  "kernelspec": {
   "display_name": "Python 3.10.4",
   "language": "python",
   "name": "python3.10"
  },
  "language_info": {
   "codemirror_mode": {
    "name": "ipython",
    "version": 3
   },
   "file_extension": ".py",
   "mimetype": "text/x-python",
   "name": "python",
   "nbconvert_exporter": "python",
   "pygments_lexer": "ipython3",
   "version": "3.10.4"
  }
 },
 "nbformat": 4,
 "nbformat_minor": 4
}
